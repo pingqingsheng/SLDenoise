{
 "cells": [
  {
   "cell_type": "code",
   "execution_count": 164,
   "metadata": {},
   "outputs": [],
   "source": [
    "import os\n",
    "from typing import Tuple\n",
    "\n",
    "import torch\n",
    "import torch.nn as nn\n",
    "import torch.nn.functional as F\n",
    "from torch import Tensor\n",
    "from torch.utils.data import Dataset, DataLoader\n",
    "import numpy as np\n",
    "import scipy\n",
    "from scipy.stats import multivariate_normal\n",
    "import matplotlib.pyplot as plt\n",
    "%matplotlib inline\n",
    "\n",
    "os.environ['CUDA_VISIBLE_DEVICES'] = \"5\""
   ]
  },
  {
   "cell_type": "code",
   "execution_count": 165,
   "metadata": {},
   "outputs": [],
   "source": [
    "class TensorDataset(Dataset[Tuple[Tensor, ...]]):\n",
    "    r\"\"\"Dataset wrapping tensors.\n",
    "\n",
    "    Each sample will be retrieved by indexing tensors along the first dimension.\n",
    "\n",
    "    Args:\n",
    "        *tensors (Tensor): tensors that have the same size of the first dimension.\n",
    "    \"\"\"\n",
    "    tensors: Tuple[Tensor, ...]\n",
    "\n",
    "    def __init__(self, *tensors: Tensor) -> None:\n",
    "        assert all(tensors[0].size(0) == tensor.size(0) for tensor in tensors), \"Size mismatch between tensors\"\n",
    "        self.tensors = tensors\n",
    "\n",
    "    def __getitem__(self, index):\n",
    "        return index, tuple(tensor[index] for tensor in self.tensors)\n",
    "\n",
    "    def __len__(self):\n",
    "        return self.tensors[0].size(0)"
   ]
  },
  {
   "cell_type": "code",
   "execution_count": 213,
   "metadata": {},
   "outputs": [],
   "source": [
    "class MLP(nn.Module):\n",
    "    def __init__(self, num_layers, input_dim, hidden_dim, output_dim):\n",
    "        '''\n",
    "            num_layers: number of layers in the neural nc_networks (EXCLUDING the input layer). If num_layers=1, this reduces to linear model.\n",
    "            input_dim: dimensionality of input features\n",
    "            hidden_dim: dimensionality of hidden units at ALL layers\n",
    "            output_dim: number of classes for prediction\n",
    "            device: which device to use\n",
    "        '''\n",
    "\n",
    "        super(MLP, self).__init__()\n",
    "\n",
    "        self.linear_or_not = True  # default is linear model\n",
    "        self.num_layers = num_layers\n",
    "\n",
    "        if num_layers < 1:\n",
    "            raise ValueError(\"number of layers should be positive!\")\n",
    "        elif num_layers == 1:\n",
    "            # Linear model\n",
    "            self.linear = nn.Linear(input_dim, output_dim)\n",
    "        else:\n",
    "            # Multi-layer model\n",
    "            self.linear_or_not = False\n",
    "            self.linears = torch.nn.ModuleList()\n",
    "            self.batch_norms = torch.nn.ModuleList()\n",
    "\n",
    "            self.linears.append(nn.Linear(input_dim, hidden_dim))\n",
    "            for layer in range(num_layers - 2):\n",
    "                self.linears.append(nn.Linear(hidden_dim, hidden_dim))\n",
    "            self.linears.append(nn.Linear(hidden_dim, output_dim))\n",
    "\n",
    "            for layer in range(num_layers - 1):\n",
    "                self.batch_norms.append(nn.BatchNorm1d((hidden_dim)))\n",
    "\n",
    "    def forward(self, x):\n",
    "        if self.linear_or_not:\n",
    "            # If linear model\n",
    "            return self.linear(x)\n",
    "        else:\n",
    "            # If MLP\n",
    "            h = x\n",
    "            for layer in range(self.num_layers - 1):\n",
    "                h = F.relu(self.batch_norms[layer](self.linears[layer](h)))\n",
    "            return self.linears[self.num_layers - 1](h)"
   ]
  },
  {
   "cell_type": "code",
   "execution_count": 365,
   "metadata": {},
   "outputs": [],
   "source": [
    "train_size = 50000\n",
    "test_size = 20000\n",
    "X_1 = np.random.multivariate_normal(mean=np.array([ 1, 0]), cov=np.array([[1, 0], [0, 1]]), size=train_size)\n",
    "X_0 = np.random.multivariate_normal(mean=np.array([-1, 0]), cov=np.array([[1, 0], [0, 1]]), size=train_size)\n",
    "y_1 = np.ones(train_size)\n",
    "y_0 = np.zeros(train_size)\n",
    "p_1_1 = multivariate_normal.pdf(X_1, mean=np.array([ 1, 0]), cov=np.array([[1, 0], [0, 1]]))\n",
    "p_1_0 = multivariate_normal.pdf(X_1, mean=np.array([-1, 0]), cov=np.array([[1, 0], [0, 1]]))\n",
    "eta_1 = p_1_1/(p_1_1+p_1_0)\n",
    "p_0_1 = multivariate_normal.pdf(X_0, mean=np.array([ 1, 0]), cov=np.array([[1, 0], [0, 1]]))\n",
    "p_0_0 = multivariate_normal.pdf(X_0, mean=np.array([-1, 0]), cov=np.array([[1, 0], [0, 1]]))\n",
    "eta_0 = p_0_1/(p_0_1+p_0_0)\n",
    "\n",
    "X = np.concatenate([X_1, X_0], axis=0)\n",
    "Y = np.concatenate([y_1, y_0], axis=0)\n",
    "eta = np.concatenate([eta_1, eta_0], axis=0)\n",
    "h_star = np.array(eta>=0.5, dtype=np.int32)"
   ]
  },
  {
   "cell_type": "markdown",
   "metadata": {},
   "source": [
    "$$\n",
    "P(\\tilde{y} | x) = \\tilde{\\eta}(x) = \n",
    "\\left\\{\n",
    "    \\begin{array}{cl}\n",
    "        \\frac{3}{4}-\\left[\\eta(x)-1\\right]^2 & \\eta(x) >= \\frac{1}{2}\\\\\n",
    "        \\frac{1}{4}+\\eta(x)^2 & \\eta(x) < \\frac{1}{2}\n",
    "    \\end{array}\n",
    "\\right.\n",
    "$$\n",
    "\n",
    "$$\n",
    "P(\\tilde{y} | x) - P(y | x)= \\Delta \\eta(x) = \n",
    "\\left\\{ \n",
    "\\begin{array}{cl}\n",
    "-\\eta(x)^2+\\eta(x)-\\frac{1}{4} & \\eta(x) >= \\frac{1}{2}\\\\\n",
    "\\eta(x)^2-\\eta(x)+\\frac{1}{4} & \\eta(x) < \\frac{1}{2}\n",
    "\\end{array}\n",
    "\\right.$$"
   ]
  },
  {
   "cell_type": "code",
   "execution_count": 366,
   "metadata": {},
   "outputs": [],
   "source": [
    "# Noise function\n",
    "# delta_eta = (-1/4x^2 - 3/4x + 15/16) \n",
    "# eta_tilde = -(1/4)*(x-1/2)^2+1\n",
    "\n",
    "def calc_eta_tilde(eta):\n",
    "    h_star = np.array(eta>=1/2, dtype=np.int32)\n",
    "    eta_tilde = (h_star==1)*(3/4-(eta-1)**2) + (h_star==0)*(1/4+eta**2)\n",
    "    return eta_tilde\n",
    "\n",
    "eta_tilde = calc_eta_tilde(eta)\n",
    "h_star_tilde = np.array(eta_tilde>=0.5, dtype=np.int32)\n",
    "y_tilde = np.array([np.random.binomial(1, x, 1) for x in eta_tilde])\n",
    "\n",
    "noise_ind = np.where(np.logical_not(y_tilde.squeeze()==h_star))[0]"
   ]
  },
  {
   "cell_type": "code",
   "execution_count": 367,
   "metadata": {},
   "outputs": [
    {
     "data": {
      "text/plain": [
       "Text(0.5, 1.0, 'Bayes Noisy Labels $\\\\tilde{h}^*(x)$')"
      ]
     },
     "execution_count": 367,
     "metadata": {},
     "output_type": "execute_result"
    },
    {
     "data": {
      "image/png": "[encoded data removed]",
      "text/plain": [
       "<Figure size 720x720 with 4 Axes>"
      ]
     },
     "metadata": {
      "needs_background": "light"
     },
     "output_type": "display_data"
    }
   ],
   "source": [
    "plt.figure(figsize=(10, 10))\n",
    "plt.subplot(2, 2, 1)\n",
    "plt.scatter(X_1[:, 0], X_1[:, 1], label='class=1')\n",
    "plt.scatter(X_0[:, 0], X_0[:, 1], label='class=0')\n",
    "plt.legend()\n",
    "plt.title(\"Real Clean Labels\")\n",
    "plt.subplot(2, 2, 2)\n",
    "plt.scatter(X[np.where(h_star==1), 0], X[np.where(h_star==1), 1], label='class=1')\n",
    "plt.scatter(X[np.where(h_star==0), 0], X[np.where(h_star==0), 1], label='class=0')\n",
    "plt.legend()\n",
    "plt.title(r\"Bayes Clean Labels $h^*(x)$\")\n",
    "plt.subplot(2, 2, 3)\n",
    "plt.scatter(X[np.where(y_tilde==1), 0], X[np.where(y_tilde==1), 1], label='class=1')\n",
    "plt.scatter(X[np.where(y_tilde==0), 0], X[np.where(y_tilde==0), 1], label='class=0')\n",
    "plt.legend()\n",
    "plt.title(\"Corrupted Labels\")\n",
    "plt.subplot(2, 2, 4)\n",
    "plt.scatter(X[np.where(h_star_tilde==1), 0], X[np.where(h_star_tilde==1), 1], label='class=1')\n",
    "plt.scatter(X[np.where(h_star_tilde==0), 0], X[np.where(h_star_tilde==0), 1], label='class=0')\n",
    "plt.legend()\n",
    "plt.title(r\"Bayes Noisy Labels $\\tilde{h}^*(x)$\")"
   ]
  },
  {
   "cell_type": "code",
   "execution_count": null,
   "metadata": {},
   "outputs": [],
   "source": []
  },
  {
   "cell_type": "code",
   "execution_count": 368,
   "metadata": {},
   "outputs": [
    {
     "name": "stderr",
     "output_type": "stream",
     "text": [
      "/home/songzhu/anaconda3/lib/python3.7/site-packages/ipykernel_launcher.py:52: UserWarning: To copy construct from a tensor, it is recommended to use sourceTensor.clone().detach() or sourceTensor.clone().detach().requires_grad_(True), rather than torch.tensor(sourceTensor).\n"
     ]
    },
    {
     "name": "stdout",
     "output_type": "stream",
     "text": [
      "Loss 0.632 - Acc 53.686%\n",
      "Loss 0.618 - Acc 70.450%\n",
      "Loss 0.616 - Acc 70.334%\n",
      "Loss 0.587 - Acc 70.402%\n",
      "Loss 0.578 - Acc 70.376%\n",
      "Loss 0.607 - Acc 70.338%\n",
      "Loss 0.640 - Acc 70.290%\n",
      "Loss 0.611 - Acc 70.408%\n",
      "Loss 0.653 - Acc 70.354%\n",
      "Loss 0.653 - Acc 70.288%\n",
      "Loss 0.613 - Acc 70.360%\n",
      "Loss 0.601 - Acc 70.376%\n"
     ]
    },
    {
     "name": "stderr",
     "output_type": "stream",
     "text": [
      "/home/songzhu/anaconda3/lib/python3.7/site-packages/ipykernel_launcher.py:73: UserWarning: To copy construct from a tensor, it is recommended to use sourceTensor.clone().detach() or sourceTensor.clone().detach().requires_grad_(True), rather than torch.tensor(sourceTensor).\n"
     ]
    },
    {
     "name": "stdout",
     "output_type": "stream",
     "text": [
      "----------------------------------------------------------\n",
      "Loss 0.639 - Acc 70.316%\n",
      "# =========================================================================\n"
     ]
    },
    {
     "name": "stderr",
     "output_type": "stream",
     "text": [
      "/home/songzhu/anaconda3/lib/python3.7/site-packages/ipykernel_launcher.py:89: UserWarning: To copy construct from a tensor, it is recommended to use sourceTensor.clone().detach() or sourceTensor.clone().detach().requires_grad_(True), rather than torch.tensor(sourceTensor).\n",
      "/home/songzhu/anaconda3/lib/python3.7/site-packages/ipykernel_launcher.py:92: UserWarning: To copy construct from a tensor, it is recommended to use sourceTensor.clone().detach() or sourceTensor.clone().detach().requires_grad_(True), rather than torch.tensor(sourceTensor).\n"
     ]
    },
    {
     "name": "stdout",
     "output_type": "stream",
     "text": [
      "epoch 0.000 \t Loss 0.228\n",
      "epoch 10.000 \t Loss 0.224\n",
      "epoch 20.000 \t Loss 0.185\n",
      "epoch 30.000 \t Loss 0.187\n",
      "epoch 40.000 \t Loss 0.189\n",
      "epoch 50.000 \t Loss 0.190\n",
      "epoch 60.000 \t Loss 0.178\n",
      "epoch 70.000 \t Loss 0.173\n",
      "epoch 80.000 \t Loss 0.222\n",
      "epoch 90.000 \t Loss 0.168\n",
      "epoch 100.000 \t Loss 0.193\n",
      "epoch 110.000 \t Loss 0.195\n",
      "-------------------------------------------------------\n",
      "Loss 0.243\n"
     ]
    }
   ],
   "source": [
    "ind = np.linspace(0, (train_size+test_size)-1, (train_size+test_size)).astype(np.int32)\n",
    "train_ind = np.random.choice(ind, train_size, replace=False)\n",
    "test_ind = np.array([x for x in set(ind) - set(train_ind)]).astype(np.int32)\n",
    "\n",
    "X_train = X[train_ind, :]\n",
    "y_train = Y[train_ind]\n",
    "y_tilde_train = y_tilde[train_ind]\n",
    "\n",
    "X_test = X[test_ind, :]\n",
    "y_tilde_test = y_tilde[test_ind]\n",
    "\n",
    "trainset = TensorDataset(torch.from_numpy(X_train).float(), torch.from_numpy(y_tilde_train).squeeze().float())\n",
    "testset  = TensorDataset(torch.from_numpy(X_test).float(), torch.from_numpy(y_tilde_test).squeeze().float())\n",
    "train_loader = DataLoader(trainset, batch_size=512, shuffle=True, pin_memory=True)\n",
    "test_loader  = DataLoader(testset,  batch_size=512, shuffle=True, pin_memory=True) \n",
    "\n",
    "# device = torch.device('cuda:0' if torch.cuda.is_available() else 'cpu')\n",
    "device=torch.device('cpu')\n",
    "\n",
    "cls = MLP(num_layers=1, input_dim=2, hidden_dim=5, output_dim=1)\n",
    "conf_model = MLP(num_layers=3, input_dim=2+1, hidden_dim=5, output_dim=1)\n",
    "# cls, conf_model = cls.to(device), conf_model.to(device)\n",
    "\n",
    "cls_optimizer = torch.optim.Adam(cls.parameters(), lr=1e-2, weight_decay=1e-6)\n",
    "num_epoch = 120\n",
    "criterion = torch.nn.BCELoss()\n",
    "\n",
    "# Fit cls\n",
    "train_conf_delta = torch.zeros(len(trainset))\n",
    "train_conf = torch.zeros(len(trainset))\n",
    "for epoch in range(num_epoch):\n",
    "    \n",
    "    total_loss = 0\n",
    "    total_num  = 0\n",
    "    total_correct = 0\n",
    "    \n",
    "    for batch in enumerate(train_loader):\n",
    "        \n",
    "        _, batch = batch\n",
    "        ind, batch, labels = batch[0], batch[1][0], batch[1][1]\n",
    "        \n",
    "        cls_optimizer.zero_grad()\n",
    "        \n",
    "        batch, labels = batch.to(device), labels.to(device)\n",
    "        outputs = cls(batch)\n",
    "        loss = criterion(torch.sigmoid(outputs).squeeze(), labels)\n",
    "        loss.backward()\n",
    "        cls_optimizer.step()\n",
    "        \n",
    "        total_num += len(labels)\n",
    "        conf = torch.sigmoid(outputs).squeeze()\n",
    "        predict = torch.tensor(conf >= 1/2).long()\n",
    "        total_correct += predict.eq(labels).sum().item()\n",
    "        \n",
    "        train_conf[ind] = conf.detach().cpu().squeeze()\n",
    "        train_conf_delta[ind] = torch.abs(predict - labels).detach().cpu()\n",
    "    \n",
    "    if not epoch%10:\n",
    "        print(f\"Loss {loss:.3f} - Acc {total_correct/total_num*100:.3f}%\")\n",
    "\n",
    "test_conf_delta  = torch.zeros(len(testset))\n",
    "test_categorical = torch.zeros(len(testset))\n",
    "test_conf = torch.zeros(len(testset))\n",
    "for batch in enumerate(test_loader):\n",
    "    _, batch = batch\n",
    "    ind, batch, labels = batch[0], batch[1][0], batch[1][1]\n",
    "\n",
    "    batch, labels = batch.to(device), labels.to(device)\n",
    "    outputs = cls(batch)\n",
    "\n",
    "    total_num += len(labels)\n",
    "    conf = torch.sigmoid(outputs).squeeze()\n",
    "    predict = torch.tensor(conf >= 1/2).long()\n",
    "    total_correct += predict.eq(labels).sum().item()\n",
    "    \n",
    "    test_conf_delta[ind]  = torch.abs(predict-labels).detach().cpu()\n",
    "    test_categorical[ind] = predict.detach().float().cpu()\n",
    "    test_conf[ind] = conf.detach().float().cpu()\n",
    "print(\"----------------------------------------------------------\")\n",
    "print(f\"Loss {loss:.3f} - Acc {total_correct/total_num*100:.3f}%\")     \n",
    "\n",
    "print(\"# =========================================================================\")\n",
    "#Regress conf_model\n",
    "# reg_traindataset = TensorDataset(torch.from_numpy(X_train).float(), train_conf_delta.squeeze().float())\n",
    "# reg_trainloader  = DataLoader(reg_traindataset, batch_size=256, shuffle=True)\n",
    "# reg_testdataset = TensorDataset(torch.from_numpy(X_test).float(), test_conf_delta.squeeze().float())\n",
    "# reg_testloader  = DataLoader(reg_testdataset, batch_size=256, shuffle=True)\n",
    "\n",
    "reg_traindataset = TensorDataset(torch.cat([torch.from_numpy(X_train).float(), torch.tensor(train_conf).view(-1, 1)], 1), \n",
    "                                 train_conf_delta.squeeze().float())\n",
    "reg_trainloader  = DataLoader(reg_traindataset, batch_size=256, shuffle=True)\n",
    "reg_testdataset = TensorDataset(torch.cat([torch.from_numpy(X_test).float(), torch.tensor(test_conf).view(-1, 1)], 1),  \n",
    "                                test_conf_delta.squeeze().float())\n",
    "reg_testloader  = DataLoader(reg_testdataset, batch_size=256, shuffle=True)\n",
    "\n",
    "reg_optimizer = torch.optim.Adam(conf_model.parameters(), lr=1e-3, weight_decay=1e-6)\n",
    "num_epoch = 120\n",
    "criterion = torch.nn.MSELoss()\n",
    "\n",
    "test_pred = torch.zeros(len(testset))\n",
    "for epoch in range(num_epoch):\n",
    "    for batch in enumerate(reg_trainloader):\n",
    "        \n",
    "        _, batch = batch\n",
    "        ind, batch, labels = batch[0], batch[1][0], batch[1][1]\n",
    "        \n",
    "        reg_optimizer.zero_grad()\n",
    "        \n",
    "        batch, labels = batch.to(device), labels.to(device)\n",
    "        outputs = conf_model(batch)\n",
    "        loss = criterion(torch.sigmoid(outputs).squeeze(), labels)\n",
    "        loss.backward()\n",
    "        reg_optimizer.step()\n",
    "    \n",
    "    if not epoch%10:\n",
    "        print(f\"epoch {epoch:.3f} \\t Loss {loss:.3f}\")\n",
    "\n",
    "test_conf_delta_pred = torch.zeros(len(testset))\n",
    "test_pred = torch.zeros(len(testset))\n",
    "for batch in enumerate(reg_testloader):\n",
    "    \n",
    "    _, batch = batch\n",
    "    ind, batch, labels = batch[0], batch[1][0], batch[1][1]\n",
    "\n",
    "    reg_optimizer.zero_grad()\n",
    "\n",
    "    batch, labels = batch.to(device), labels.to(device)\n",
    "    outputs = conf_model(batch)\n",
    "    loss = criterion(torch.sigmoid(outputs).squeeze(), labels)\n",
    "\n",
    "    \n",
    "    test_conf_delta_pred[ind] = torch.sigmoid(outputs).squeeze().detach().cpu()\n",
    "print(\"-------------------------------------------------------\")\n",
    "print(f\"Loss {loss:.3f}\")"
   ]
  },
  {
   "cell_type": "code",
   "execution_count": 376,
   "metadata": {},
   "outputs": [
    {
     "name": "stdout",
     "output_type": "stream",
     "text": [
      "precision = 0.291 \t recall = 0.059\n"
     ]
    }
   ],
   "source": [
    " # Naive\n",
    "test_conf_delta_pred = np.array(test_conf_delta_pred)\n",
    "select_ind = np.where(np.logical_not(test_categorical.numpy() == y_tilde_test.squeeze()))[0]\n",
    "precision = len([x for x in select_ind if x in noise_ind])/len(select_ind)\n",
    "recall = len([x for x in select_ind if x in noise_ind])/len(noise_ind)\n",
    "print(f\"precision = {precision:.3f} \\t recall = {recall:.3f}\")"
   ]
  },
  {
   "cell_type": "code",
   "execution_count": 377,
   "metadata": {},
   "outputs": [
    {
     "name": "stdout",
     "output_type": "stream",
     "text": [
      "precision = 0.299 \t recall = 0.104\n"
     ]
    }
   ],
   "source": [
    "# Confidence\n",
    "test_conf = np.array(test_conf).squeeze()\n",
    "select_ind = np.where(np.logical_and(((1-test_conf)**(1-y_tilde_test.squeeze()))*(test_conf**y_tilde_test.squeeze())>=0.6, \n",
    "                                 np.logical_not(test_categorical == y_tilde_test.squeeze())))[0]\n",
    "precision = len([x for x in select_ind if x in noise_ind])/len(select_ind)\n",
    "recall = len([x for x in select_ind if x in noise_ind])/len(noise_ind)\n",
    "print(f\"precision = {precision:.3f} \\t recall = {recall:.3f}\")"
   ]
  },
  {
   "cell_type": "code",
   "execution_count": 378,
   "metadata": {},
   "outputs": [
    {
     "name": "stdout",
     "output_type": "stream",
     "text": [
      "precision = 0.290 \t recall = 0.078\n"
     ]
    }
   ],
   "source": [
    "# Ours\n",
    "test_conf_delta_pred = np.array(test_conf_delta_pred)\n",
    "select_ind = np.where(np.logical_and(test_conf_delta_pred >= np.quantile(test_conf_delta_pred, 0.6), \n",
    "                                     np.logical_not(test_categorical == y_tilde_test.squeeze())))[0]\n",
    "precision = len([x for x in select_ind if x in noise_ind])/len(select_ind)\n",
    "recall = len([x for x in select_ind if x in noise_ind])/len(noise_ind)\n",
    "print(f\"precision = {precision:.3f} \\t recall = {recall:.3f}\")"
   ]
  },
  {
   "cell_type": "code",
   "execution_count": 379,
   "metadata": {},
   "outputs": [
    {
     "name": "stdout",
     "output_type": "stream",
     "text": [
      "[0.35095    0.29329768 0.26577634 0.2515621  0.24922931]\n",
      "[ 0.31871145  0.29147914 -0.26446429  0.25012891  0.25031772]\n"
     ]
    }
   ],
   "source": [
    "print(test_conf_delta_pred[:5])\n",
    "print((h_star[test_ind]-eta_tilde[test_ind])[:5])"
   ]
  },
  {
   "cell_type": "code",
   "execution_count": 380,
   "metadata": {},
   "outputs": [
    {
     "name": "stdout",
     "output_type": "stream",
     "text": [
      "0.0003826716673189418\n"
     ]
    }
   ],
   "source": [
    "print(np.mean((test_conf_delta_pred-np.abs((eta_tilde[test_ind] - h_star[test_ind])))**2))"
   ]
  },
  {
   "cell_type": "code",
   "execution_count": 381,
   "metadata": {},
   "outputs": [
    {
     "data": {
      "text/plain": [
       "array([0.74764999, 0.65599774, 0.7420247 , ..., 0.25000381, 0.59059646,\n",
       "       0.36198839])"
      ]
     },
     "execution_count": 381,
     "metadata": {},
     "output_type": "execute_result"
    }
   ],
   "source": [
    "eta_tilde"
   ]
  },
  {
   "cell_type": "code",
   "execution_count": 375,
   "metadata": {},
   "outputs": [
    {
     "data": {
      "text/plain": [
       "array([0.31871145, 0.29147914, 0.26446429, 0.25012891, 0.25031772,\n",
       "       0.25856104, 0.25970757, 0.25680638, 0.4192964 , 0.34070813,\n",
       "       0.2505928 , 0.25567781, 0.25004968, 0.3282006 , 0.25601589,\n",
       "       0.26558714, 0.25016913, 0.25151938, 0.2503445 , 0.29737006,\n",
       "       0.26376952, 0.25523897, 0.29481498, 0.2623434 , 0.25135698,\n",
       "       0.25010146, 0.26839762, 0.3512027 , 0.32232731, 0.34122262,\n",
       "       0.25614445, 0.3285714 , 0.40894975, 0.27158017, 0.25028937,\n",
       "       0.28624113, 0.25193692, 0.29982564, 0.36115415, 0.4760521 ,\n",
       "       0.28896888, 0.26090204, 0.25029097, 0.27527031, 0.27402542,\n",
       "       0.33992636, 0.43396709, 0.30065729, 0.26041948, 0.25023113,\n",
       "       0.25803743, 0.25425549, 0.32517383, 0.25178413, 0.27597126,\n",
       "       0.25009778, 0.36410802, 0.25002926, 0.25569119, 0.42934405,\n",
       "       0.25185089, 0.25067018, 0.25168423, 0.29345475, 0.41598357,\n",
       "       0.26059961, 0.31044645, 0.25006184, 0.43002232, 0.40059688,\n",
       "       0.31371476, 0.32865571, 0.26450697, 0.25004827, 0.28953046,\n",
       "       0.25034999, 0.33458662, 0.46223388, 0.25006787, 0.25040713,\n",
       "       0.28226296, 0.26700527, 0.25062664, 0.30326187, 0.27140049,\n",
       "       0.25015754, 0.25133723, 0.25014745, 0.25006581, 0.2500054 ,\n",
       "       0.25802596, 0.25035258, 0.25011877, 0.28989237, 0.38557227,\n",
       "       0.25394871, 0.26387144, 0.25005405, 0.29219802, 0.2926373 ])"
      ]
     },
     "execution_count": 375,
     "metadata": {},
     "output_type": "execute_result"
    }
   ],
   "source": [
    "np.abs((eta_tilde[test_ind] - h_star[test_ind]))[:100]"
   ]
  },
  {
   "cell_type": "code",
   "execution_count": null,
   "metadata": {},
   "outputs": [],
   "source": []
  },
  {
   "cell_type": "code",
   "execution_count": null,
   "metadata": {},
   "outputs": [],
   "source": []
  },
  {
   "cell_type": "code",
   "execution_count": null,
   "metadata": {},
   "outputs": [],
   "source": []
  },
  {
   "cell_type": "code",
   "execution_count": null,
   "metadata": {},
   "outputs": [],
   "source": []
  },
  {
   "cell_type": "code",
   "execution_count": null,
   "metadata": {},
   "outputs": [],
   "source": []
  }
 ],
 "metadata": {
  "kernelspec": {
   "display_name": "round5",
   "language": "python",
   "name": "round5"
  },
  "language_info": {
   "codemirror_mode": {
    "name": "ipython",
    "version": 3
   },
   "file_extension": ".py",
   "mimetype": "text/x-python",
   "name": "python",
   "nbconvert_exporter": "python",
   "pygments_lexer": "ipython3",
   "version": "3.7.6"
  }
 },
 "nbformat": 4,
 "nbformat_minor": 4
}
